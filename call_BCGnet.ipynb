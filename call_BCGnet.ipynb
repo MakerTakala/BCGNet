{
 "cells": [
  {
   "cell_type": "markdown",
   "metadata": {
    "id": "cGJBuj_jXuKR"
   },
   "source": [
    "# BCGNet Demo"
   ]
  },
  {
   "cell_type": "code",
   "execution_count": 10,
   "metadata": {},
   "outputs": [
    {
     "name": "stdout",
     "output_type": "stream",
     "text": [
      "Requirement already satisfied: mne in /Users/takala/Library/Caches/pypoetry/virtualenvs/bcgnet-K47I1OFr-py3.10/lib/python3.10/site-packages (1.3.1)\n",
      "Requirement already satisfied: decorator in /Users/takala/Library/Caches/pypoetry/virtualenvs/bcgnet-K47I1OFr-py3.10/lib/python3.10/site-packages (from mne) (5.1.1)\n",
      "Requirement already satisfied: tqdm in /Users/takala/Library/Caches/pypoetry/virtualenvs/bcgnet-K47I1OFr-py3.10/lib/python3.10/site-packages (from mne) (4.65.0)\n",
      "Requirement already satisfied: scipy>=1.1.0 in /Users/takala/Library/Caches/pypoetry/virtualenvs/bcgnet-K47I1OFr-py3.10/lib/python3.10/site-packages (from mne) (1.10.1)\n",
      "Requirement already satisfied: numpy>=1.15.4 in /Users/takala/Library/Caches/pypoetry/virtualenvs/bcgnet-K47I1OFr-py3.10/lib/python3.10/site-packages (from mne) (1.23.5)\n",
      "Requirement already satisfied: matplotlib in /Users/takala/Library/Caches/pypoetry/virtualenvs/bcgnet-K47I1OFr-py3.10/lib/python3.10/site-packages (from mne) (3.7.1)\n",
      "Requirement already satisfied: packaging in /Users/takala/Library/Caches/pypoetry/virtualenvs/bcgnet-K47I1OFr-py3.10/lib/python3.10/site-packages (from mne) (23.1)\n",
      "Requirement already satisfied: pooch>=1.5 in /Users/takala/Library/Caches/pypoetry/virtualenvs/bcgnet-K47I1OFr-py3.10/lib/python3.10/site-packages (from mne) (1.7.0)\n",
      "Requirement already satisfied: jinja2 in /Users/takala/Library/Caches/pypoetry/virtualenvs/bcgnet-K47I1OFr-py3.10/lib/python3.10/site-packages (from mne) (3.1.2)\n",
      "Requirement already satisfied: platformdirs>=2.5.0 in /Users/takala/Library/Caches/pypoetry/virtualenvs/bcgnet-K47I1OFr-py3.10/lib/python3.10/site-packages (from pooch>=1.5->mne) (3.2.0)\n",
      "Requirement already satisfied: requests>=2.19.0 in /Users/takala/Library/Caches/pypoetry/virtualenvs/bcgnet-K47I1OFr-py3.10/lib/python3.10/site-packages (from pooch>=1.5->mne) (2.28.2)\n",
      "Requirement already satisfied: MarkupSafe>=2.0 in /Users/takala/Library/Caches/pypoetry/virtualenvs/bcgnet-K47I1OFr-py3.10/lib/python3.10/site-packages (from jinja2->mne) (2.1.2)\n",
      "Requirement already satisfied: kiwisolver>=1.0.1 in /Users/takala/Library/Caches/pypoetry/virtualenvs/bcgnet-K47I1OFr-py3.10/lib/python3.10/site-packages (from matplotlib->mne) (1.4.4)\n",
      "Requirement already satisfied: pyparsing>=2.3.1 in /Users/takala/Library/Caches/pypoetry/virtualenvs/bcgnet-K47I1OFr-py3.10/lib/python3.10/site-packages (from matplotlib->mne) (3.0.9)\n",
      "Requirement already satisfied: fonttools>=4.22.0 in /Users/takala/Library/Caches/pypoetry/virtualenvs/bcgnet-K47I1OFr-py3.10/lib/python3.10/site-packages (from matplotlib->mne) (4.39.3)\n",
      "Requirement already satisfied: python-dateutil>=2.7 in /Users/takala/Library/Caches/pypoetry/virtualenvs/bcgnet-K47I1OFr-py3.10/lib/python3.10/site-packages (from matplotlib->mne) (2.8.2)\n",
      "Requirement already satisfied: contourpy>=1.0.1 in /Users/takala/Library/Caches/pypoetry/virtualenvs/bcgnet-K47I1OFr-py3.10/lib/python3.10/site-packages (from matplotlib->mne) (1.0.7)\n",
      "Requirement already satisfied: cycler>=0.10 in /Users/takala/Library/Caches/pypoetry/virtualenvs/bcgnet-K47I1OFr-py3.10/lib/python3.10/site-packages (from matplotlib->mne) (0.11.0)\n",
      "Requirement already satisfied: pillow>=6.2.0 in /Users/takala/Library/Caches/pypoetry/virtualenvs/bcgnet-K47I1OFr-py3.10/lib/python3.10/site-packages (from matplotlib->mne) (9.5.0)\n",
      "Requirement already satisfied: six>=1.5 in /Users/takala/Library/Caches/pypoetry/virtualenvs/bcgnet-K47I1OFr-py3.10/lib/python3.10/site-packages (from python-dateutil>=2.7->matplotlib->mne) (1.16.0)\n",
      "Requirement already satisfied: certifi>=2017.4.17 in /Users/takala/Library/Caches/pypoetry/virtualenvs/bcgnet-K47I1OFr-py3.10/lib/python3.10/site-packages (from requests>=2.19.0->pooch>=1.5->mne) (2022.12.7)\n",
      "Requirement already satisfied: urllib3<1.27,>=1.21.1 in /Users/takala/Library/Caches/pypoetry/virtualenvs/bcgnet-K47I1OFr-py3.10/lib/python3.10/site-packages (from requests>=2.19.0->pooch>=1.5->mne) (1.26.15)\n",
      "Requirement already satisfied: charset-normalizer<4,>=2 in /Users/takala/Library/Caches/pypoetry/virtualenvs/bcgnet-K47I1OFr-py3.10/lib/python3.10/site-packages (from requests>=2.19.0->pooch>=1.5->mne) (3.1.0)\n",
      "Requirement already satisfied: idna<4,>=2.5 in /Users/takala/Library/Caches/pypoetry/virtualenvs/bcgnet-K47I1OFr-py3.10/lib/python3.10/site-packages (from requests>=2.19.0->pooch>=1.5->mne) (3.4)\n",
      "\n",
      "\u001b[1m[\u001b[0m\u001b[34;49mnotice\u001b[0m\u001b[1;39;49m]\u001b[0m\u001b[39;49m A new release of pip is available: \u001b[0m\u001b[31;49m23.0.1\u001b[0m\u001b[39;49m -> \u001b[0m\u001b[32;49m23.1\u001b[0m\n",
      "\u001b[1m[\u001b[0m\u001b[34;49mnotice\u001b[0m\u001b[1;39;49m]\u001b[0m\u001b[39;49m To update, run: \u001b[0m\u001b[32;49mpip install --upgrade pip\u001b[0m\n",
      "Note: you may need to restart the kernel to use updated packages.\n"
     ]
    }
   ],
   "source": [
    "%pip install mne"
   ]
  },
  {
   "cell_type": "code",
   "execution_count": 11,
   "metadata": {
    "colab": {
     "base_uri": "https://localhost:8080/"
    },
    "id": "agri_6h5bJg-",
    "outputId": "d03b2f8c-e2b8-45d1-c040-1f3c81b6448e"
   },
   "outputs": [
    {
     "name": "stdout",
     "output_type": "stream",
     "text": [
      "Cloning into 'BCGNet'...\n",
      "remote: Enumerating objects: 355, done.\u001b[K\n",
      "remote: Counting objects: 100% (107/107), done.\u001b[K\n",
      "remote: Compressing objects: 100% (71/71), done.\u001b[K\n",
      "^Cceiving objects:  20% (71/355), 52.50 MiB | 574.00 KiB/s  \n",
      "fetch-pack: unexpected disconnect while reading sideband packet\n",
      "[Errno 2] No such file or directory: 'BCGNet'\n",
      "/Users/takala/Documents/GitHub/BCGNet/BCGNet/BCGNet\n"
     ]
    }
   ],
   "source": [
    "!git clone https://github.com/htylab/BCGNet.git\n",
    "%cd BCGNet"
   ]
  },
  {
   "cell_type": "code",
   "execution_count": null,
   "metadata": {},
   "outputs": [],
   "source": [
    "!pip install numpy~=1.19.5"
   ]
  },
  {
   "cell_type": "markdown",
   "metadata": {
    "id": "i0QHZwr8XuKU"
   },
   "source": [
    "## Path setup"
   ]
  },
  {
   "cell_type": "markdown",
   "metadata": {
    "id": "ubv-6KbIXuKV"
   },
   "source": [
    "### Option 2: In Python"
   ]
  },
  {
   "cell_type": "markdown",
   "metadata": {
    "id": "jtN1kfKjXuKV"
   },
   "source": [
    "For the purpose of this demo, we will set all the variables listed above in the Jupyter notebook. Additionally, here we will set them as pathlib objects instead of strings for convenience."
   ]
  },
  {
   "cell_type": "code",
   "execution_count": null,
   "metadata": {
    "id": "ZfIxvjMqXuKV"
   },
   "outputs": [],
   "source": [
    "import os\n",
    "import tqdm\n",
    "\n",
    "from pathlib import Path\n",
    "from config import get_config\n",
    "from session import Session\n",
    "\n",
    "import glob\n",
    "from scipy.io import savemat\n",
    "import os\n",
    "from os.path import *\n",
    "import time\n",
    "result_dir = r'./BCGNET_result'\n",
    "os.makedirs(result_dir, exist_ok=True)\n",
    "\n",
    "ffs = glob.glob(r\"/Users/takala/Documents/GitHub/BCGunet/data/noscan/*/analysis/*.mat\")\n",
    "\n",
    "for f in tqdm.tqdm(ffs):\n",
    "    time_list = []\n",
    "\n",
    "    print(f)\n",
    "    d_root = Path(os.getcwd())\n",
    "    cfg = get_config(filename=d_root / 'config' / 'default_config.yaml')\n",
    "    cfg.d_root = d_root\n",
    "    cfg.d_model = ''\n",
    "    cfg.d_output = ''\n",
    "    cfg.d_eval = None\n",
    "    cfg.str_eval = None\n",
    "    cfg.d_data = Path(f)\n",
    "\n",
    "    t = time.time()\n",
    "    s1 = Session(str_sub='sub34', vec_idx_run=[1], str_arch='default_rnn_model',\n",
    "                 random_seed=1997, verbose=1, overwrite=False, cv_mode=False, num_fold=5, cfg=cfg)\n",
    "    # loads all dataset\n",
    "    s1.load_all_dataset()\n",
    "    # preform preprocessing of all dataset and initialize model\n",
    "    s1.prepare_training()\n",
    "    s1.train()\n",
    "    s1.clean()\n",
    "    result = s1.vec_dataset[0].orig_cleaned_dataset.get_data()\n",
    "    runtime = time.time() - t\n",
    "    mat_f1 = join(result_dir, basename(dirname(dirname(f))) + '-' + basename(f))\n",
    "    mat_f2 = f.replace('.mat', '_bcgnet.mat')\n",
    "\n",
    "    mat = dict()\n",
    "    mat['bcgnet'] = result[:31, :]\n",
    "    savemat(mat_f1, mat, do_compression=True)\n",
    "    savemat(mat_f2, mat, do_compression=True)\n",
    "    time_list.append(runtime)\n",
    "    print(runtime)"
   ]
  },
  {
   "cell_type": "code",
   "execution_count": null,
   "metadata": {},
   "outputs": [],
   "source": []
  }
 ],
 "metadata": {
  "accelerator": "GPU",
  "colab": {
   "provenance": []
  },
  "gpuClass": "standard",
  "kernelspec": {
   "display_name": "Python 3 (ipykernel)",
   "language": "python",
   "name": "python3"
  },
  "language_info": {
   "codemirror_mode": {
    "name": "ipython",
    "version": 3
   },
   "file_extension": ".py",
   "mimetype": "text/x-python",
   "name": "python",
   "nbconvert_exporter": "python",
   "pygments_lexer": "ipython3",
   "version": "3.10.6"
  },
  "vscode": {
   "interpreter": {
    "hash": "e4cce46d6be9934fbd27f9ca0432556941ea5bdf741d4f4d64c6cd7f8dfa8fba"
   }
  }
 },
 "nbformat": 4,
 "nbformat_minor": 4
}
